{
 "cells": [
  {
   "cell_type": "code",
   "execution_count": 16,
   "id": "6a5ace92-e1b6-4bc1-a0db-8bb3cfc7dd70",
   "metadata": {
    "tags": []
   },
   "outputs": [],
   "source": [
    "# 1. creation d'une session spark\n",
    "\n",
    "from pyspark.sql import SparkSession\n",
    "\n",
    "spark = SparkSession.builder.master(\"local[1]\").appName(\"demoRDD\").getOrCreate()\n"
   ]
  },
  {
   "cell_type": "code",
   "execution_count": 17,
   "id": "cdb26069-65aa-4fff-8993-9b90d6daa99b",
   "metadata": {
    "tags": []
   },
   "outputs": [],
   "source": [
    "# 2. Creation d'un RDD à partir d'un fichier text\n",
    "mon_rdd = spark.sparkContext.textFile(\"Data/test.txt\")"
   ]
  },
  {
   "cell_type": "code",
   "execution_count": 18,
   "id": "a2559f8b-182f-48f7-9c45-555173bd0487",
   "metadata": {
    "tags": []
   },
   "outputs": [
    {
     "name": "stdout",
     "output_type": "stream",
     "text": [
      "Data/test.txt MapPartitionsRDD[30] at textFile at NativeMethodAccessorImpl.java:0\n"
     ]
    }
   ],
   "source": [
    "# 3.a affichage du RDD\n",
    "print(mon_rdd)"
   ]
  },
  {
   "cell_type": "code",
   "execution_count": 19,
   "id": "7e725d8c-0edb-4a36-a1b5-97751241e5af",
   "metadata": {
    "collapsed": true,
    "jupyter": {
     "outputs_hidden": true
    },
    "tags": []
   },
   "outputs": [
    {
     "name": "stdout",
     "output_type": "stream",
     "text": [
      "['Project Gutenberg’s', 'Alice’s Adventures in Wonderland', 'by Lewis Carroll', 'This eBook is for the use', 'of anyone anywhere', 'at no cost and with', 'Alice’s Adventures in Wonderland', 'by Lewis Carroll', 'This eBook is for the use', 'of anyone anywhere', 'at no cost and with', 'This eBook is for the use', 'of anyone anywhere', 'at no cost and with', 'Project Gutenberg’s', 'Alice’s Adventures in Wonderland', 'by Lewis Carroll', 'This eBook is for the use', 'of anyone anywhere', 'at no cost and with', 'Alice’s Adventures in Wonderland', 'by Lewis Carroll', 'This eBook is for the use', 'of anyone anywhere', 'at no cost and with', 'This eBook is for the use', 'of anyone anywhere', 'at no cost and with', 'Project Gutenberg’s', 'Alice’s Adventures in Wonderland', 'by Lewis Carroll', 'This eBook is for the use', 'of anyone anywhere', 'at no cost and with', 'Alice’s Adventures in Wonderland', 'by Lewis Carroll', 'This eBook is for the use', 'of anyone anywhere', 'at no cost and with', 'This eBook is for the use', 'of anyone anywhere', 'at no cost and with', 'Project Gutenberg’s', 'Alice’s Adventures in Wonderland', 'by Lewis Carroll', 'This eBook is for the use', 'of anyone anywhere', 'at no cost and with', 'Alice’s Adventures in Wonderland', 'by Lewis Carroll', 'This eBook is for the use', 'of anyone anywhere', 'at no cost and with', 'This eBook is for the use', 'of anyone anywhere', 'at no cost and with', 'Project Gutenberg’s', 'Alice’s Adventures in Wonderland', 'by Lewis Carroll', 'This eBook is for the use', 'of anyone anywhere', 'at no cost and with', 'Alice’s Adventures in Wonderland', 'by Lewis Carroll', 'This eBook is for the use', 'of anyone anywhere', 'at no cost and with', 'This eBook is for the use', 'of anyone anywhere', 'at no cost and with', 'Project Gutenberg’s', 'Alice’s Adventures in Wonderland', 'by Lewis Carroll', 'This eBook is for the use', 'of anyone anywhere', 'at no cost and with', 'Alice’s Adventures in Wonderland', 'by Lewis Carroll', 'This eBook is for the use', 'of anyone anywhere', 'at no cost and with', 'This eBook is for the use', 'of anyone anywhere', 'at no cost and with', 'Project Gutenberg’s', 'Alice’s Adventures in Wonderland', 'by Lewis Carroll', 'This eBook is for the use', 'of anyone anywhere', 'at no cost and with', 'Alice’s Adventures in Wonderland', 'by Lewis Carroll', 'This eBook is for the use', 'of anyone anywhere', 'at no cost and with', 'This eBook is for the use', 'of anyone anywhere', 'at no cost and with', 'Project Gutenberg’s', 'Alice’s Adventures in Wonderland', 'by Lewis Carroll', 'This eBook is for the use', 'of anyone anywhere', 'at no cost and with', 'Alice’s Adventures in Wonderland', 'by Lewis Carroll', 'This eBook is for the use', 'of anyone anywhere', 'at no cost and with', 'This eBook is for the use', 'of anyone anywhere', 'at no cost and with', 'Project Gutenberg’s', 'Alice’s Adventures in Wonderland', 'by Lewis Carroll', 'Poulet', 'This eBook is for the use', 'of anyone anywhere', 'at no cost and with', 'Alice’s Adventures in Wonderland', 'by Lewis Carroll', 'This eBook is for the use', 'of anyone anywhere', 'at no cost and with', 'This eBook is for the use', 'of anyone anywhere', 'at no cost and with']\n"
     ]
    }
   ],
   "source": [
    "# 3.b affichage des données du RDD => operation de recuperation des données\n",
    "mes_datas = mon_rdd.collect()\n",
    "print(mes_datas)"
   ]
  },
  {
   "cell_type": "code",
   "execution_count": 20,
   "id": "4de653d7-2c34-4466-af08-e96c05403150",
   "metadata": {
    "tags": []
   },
   "outputs": [
    {
     "name": "stdout",
     "output_type": "stream",
     "text": [
      "Nombre de lignes :  127\n"
     ]
    }
   ],
   "source": [
    "# 4. Afficher le nombre de lignes dans le fichier\n",
    "print(\"Nombre de lignes : \",mon_rdd.count())"
   ]
  },
  {
   "cell_type": "code",
   "execution_count": 21,
   "id": "a0e08e29-b6c5-4ecd-99c6-2e68965bf323",
   "metadata": {
    "collapsed": true,
    "jupyter": {
     "outputs_hidden": true
    },
    "tags": []
   },
   "outputs": [
    {
     "name": "stdout",
     "output_type": "stream",
     "text": [
      "Les 10 premières lignes :  ['Project Gutenberg’s', 'Alice’s Adventures in Wonderland', 'by Lewis Carroll', 'This eBook is for the use', 'of anyone anywhere', 'at no cost and with', 'Alice’s Adventures in Wonderland', 'by Lewis Carroll', 'This eBook is for the use', 'of anyone anywhere']\n"
     ]
    }
   ],
   "source": [
    "# 5. Afficher les 10 premières lignes du fichier\n",
    "print(\"Les 10 premières lignes : \",mon_rdd.take(10))"
   ]
  },
  {
   "cell_type": "code",
   "execution_count": 27,
   "id": "3ace333c-f8e3-42d2-9607-b61b1b741e47",
   "metadata": {
    "collapsed": true,
    "jupyter": {
     "outputs_hidden": true
    },
    "tags": []
   },
   "outputs": [
    {
     "name": "stdout",
     "output_type": "stream",
     "text": [
      "Lignes avec Lewis :  ['by Lewis Carroll', 'by Lewis Carroll', 'by Lewis Carroll', 'by Lewis Carroll', 'by Lewis Carroll', 'by Lewis Carroll', 'by Lewis Carroll', 'by Lewis Carroll', 'by Lewis Carroll', 'by Lewis Carroll', 'by Lewis Carroll', 'by Lewis Carroll', 'by Lewis Carroll', 'by Lewis Carroll', 'by Lewis Carroll', 'by Lewis Carroll', 'by Lewis Carroll', 'by Lewis Carroll']\n"
     ]
    }
   ],
   "source": [
    "# 6. Filtrer les lignes qui contiennent le mot \"Lewis\"\n",
    "filtered_rdd = mon_rdd.filter(lambda line: \"Lewis\" in line)\n",
    "print(\"Lignes avec Lewis : \",filtered_rdd.collect())"
   ]
  },
  {
   "cell_type": "code",
   "execution_count": 31,
   "id": "cbd93210-86e2-4d5c-b6a0-968d360d8da2",
   "metadata": {
    "collapsed": true,
    "jupyter": {
     "outputs_hidden": true
    },
    "tags": []
   },
   "outputs": [
    {
     "name": "stdout",
     "output_type": "stream",
     "text": [
      "Lignes aves Lewis en majuscule :  ['Project Gutenberg’s', 'Alice’s Adventures in Wonderland', 'BY LEWIS CARROLL', 'This eBook is for the use', 'of anyone anywhere', 'at no cost and with', 'Alice’s Adventures in Wonderland', 'BY LEWIS CARROLL', 'This eBook is for the use', 'of anyone anywhere', 'at no cost and with', 'This eBook is for the use', 'of anyone anywhere', 'at no cost and with', 'Project Gutenberg’s', 'Alice’s Adventures in Wonderland', 'BY LEWIS CARROLL', 'This eBook is for the use', 'of anyone anywhere', 'at no cost and with', 'Alice’s Adventures in Wonderland', 'BY LEWIS CARROLL', 'This eBook is for the use', 'of anyone anywhere', 'at no cost and with', 'This eBook is for the use', 'of anyone anywhere', 'at no cost and with', 'Project Gutenberg’s', 'Alice’s Adventures in Wonderland', 'BY LEWIS CARROLL', 'This eBook is for the use', 'of anyone anywhere', 'at no cost and with', 'Alice’s Adventures in Wonderland', 'BY LEWIS CARROLL', 'This eBook is for the use', 'of anyone anywhere', 'at no cost and with', 'This eBook is for the use', 'of anyone anywhere', 'at no cost and with', 'Project Gutenberg’s', 'Alice’s Adventures in Wonderland', 'BY LEWIS CARROLL', 'This eBook is for the use', 'of anyone anywhere', 'at no cost and with', 'Alice’s Adventures in Wonderland', 'BY LEWIS CARROLL', 'This eBook is for the use', 'of anyone anywhere', 'at no cost and with', 'This eBook is for the use', 'of anyone anywhere', 'at no cost and with', 'Project Gutenberg’s', 'Alice’s Adventures in Wonderland', 'BY LEWIS CARROLL', 'This eBook is for the use', 'of anyone anywhere', 'at no cost and with', 'Alice’s Adventures in Wonderland', 'BY LEWIS CARROLL', 'This eBook is for the use', 'of anyone anywhere', 'at no cost and with', 'This eBook is for the use', 'of anyone anywhere', 'at no cost and with', 'Project Gutenberg’s', 'Alice’s Adventures in Wonderland', 'BY LEWIS CARROLL', 'This eBook is for the use', 'of anyone anywhere', 'at no cost and with', 'Alice’s Adventures in Wonderland', 'BY LEWIS CARROLL', 'This eBook is for the use', 'of anyone anywhere', 'at no cost and with', 'This eBook is for the use', 'of anyone anywhere', 'at no cost and with', 'Project Gutenberg’s', 'Alice’s Adventures in Wonderland', 'BY LEWIS CARROLL', 'This eBook is for the use', 'of anyone anywhere', 'at no cost and with', 'Alice’s Adventures in Wonderland', 'BY LEWIS CARROLL', 'This eBook is for the use', 'of anyone anywhere', 'at no cost and with', 'This eBook is for the use', 'of anyone anywhere', 'at no cost and with', 'Project Gutenberg’s', 'Alice’s Adventures in Wonderland', 'BY LEWIS CARROLL', 'This eBook is for the use', 'of anyone anywhere', 'at no cost and with', 'Alice’s Adventures in Wonderland', 'BY LEWIS CARROLL', 'This eBook is for the use', 'of anyone anywhere', 'at no cost and with', 'This eBook is for the use', 'of anyone anywhere', 'at no cost and with', 'Project Gutenberg’s', 'Alice’s Adventures in Wonderland', 'BY LEWIS CARROLL', 'Poulet', 'This eBook is for the use', 'of anyone anywhere', 'at no cost and with', 'Alice’s Adventures in Wonderland', 'BY LEWIS CARROLL', 'This eBook is for the use', 'of anyone anywhere', 'at no cost and with', 'This eBook is for the use', 'of anyone anywhere', 'at no cost and with']\n"
     ]
    }
   ],
   "source": [
    "# 7. Transformer les lignes qui contiennent lewis en majuscule\n",
    "# cas 1 : à partir du debut\n",
    "Upper = mon_rdd.map(lambda line: line.upper() if \"Lewis\" in line else line)\n",
    "print(\"Lignes aves Lewis en majuscule : \", Upper.collect())"
   ]
  },
  {
   "cell_type": "code",
   "execution_count": 30,
   "id": "779e1171-6b5a-460a-8e27-cb352d7016ff",
   "metadata": {
    "collapsed": true,
    "jupyter": {
     "outputs_hidden": true
    },
    "tags": []
   },
   "outputs": [
    {
     "name": "stdout",
     "output_type": "stream",
     "text": [
      "Lignes aves Lewis en majuscule :  ['BY LEWIS CARROLL', 'BY LEWIS CARROLL', 'BY LEWIS CARROLL', 'BY LEWIS CARROLL', 'BY LEWIS CARROLL', 'BY LEWIS CARROLL', 'BY LEWIS CARROLL', 'BY LEWIS CARROLL', 'BY LEWIS CARROLL', 'BY LEWIS CARROLL', 'BY LEWIS CARROLL', 'BY LEWIS CARROLL', 'BY LEWIS CARROLL', 'BY LEWIS CARROLL', 'BY LEWIS CARROLL', 'BY LEWIS CARROLL', 'BY LEWIS CARROLL', 'BY LEWIS CARROLL']\n"
     ]
    }
   ],
   "source": [
    "# cas 2 : en réutilisant un RDD cree precedemment\n",
    "Upper2 = filtered_rdd.map(lambda line: line.upper())\n",
    "print(\"Lignes aves Lewis en majuscule : \", Upper2.collect())"
   ]
  },
  {
   "cell_type": "code",
   "execution_count": 32,
   "id": "ed10c06f-d5a2-4979-b1c0-97c20d50d114",
   "metadata": {
    "tags": []
   },
   "outputs": [
    {
     "name": "stdout",
     "output_type": "stream",
     "text": [
      "Nombre d'occurence de Wonderland pour chaque lignes :  [0, 1, 0, 0, 0, 0, 1, 0, 0, 0, 0, 0, 0, 0, 0, 1, 0, 0, 0, 0, 1, 0, 0, 0, 0, 0, 0, 0, 0, 1, 0, 0, 0, 0, 1, 0, 0, 0, 0, 0, 0, 0, 0, 1, 0, 0, 0, 0, 1, 0, 0, 0, 0, 0, 0, 0, 0, 1, 0, 0, 0, 0, 1, 0, 0, 0, 0, 0, 0, 0, 0, 1, 0, 0, 0, 0, 1, 0, 0, 0, 0, 0, 0, 0, 0, 1, 0, 0, 0, 0, 1, 0, 0, 0, 0, 0, 0, 0, 0, 1, 0, 0, 0, 0, 1, 0, 0, 0, 0, 0, 0, 0, 0, 1, 0, 0, 0, 0, 0, 1, 0, 0, 0, 0, 0, 0, 0]\n"
     ]
    }
   ],
   "source": [
    "# 8. Compter le nombre d'occurences du mot \"Wonderland\" dans chaque ligne\n",
    "rdd_occ = mon_rdd.map(lambda line: line.split(\" \")).map(lambda word: word.count(\"Wonderland\"))\n",
    "print(\"Nombre d'occurence de Wonderland pour chaque lignes : \", rdd_occ.collect())"
   ]
  },
  {
   "cell_type": "code",
   "execution_count": null,
   "id": "eb83e1bf-f847-4e6f-863e-6313eab461ec",
   "metadata": {},
   "outputs": [],
   "source": []
  }
 ],
 "metadata": {
  "kernelspec": {
   "display_name": "Python 3 (ipykernel)",
   "language": "python",
   "name": "python3"
  },
  "language_info": {
   "codemirror_mode": {
    "name": "ipython",
    "version": 3
   },
   "file_extension": ".py",
   "mimetype": "text/x-python",
   "name": "python",
   "nbconvert_exporter": "python",
   "pygments_lexer": "ipython3",
   "version": "3.10.11"
  },
  "vscode": {
   "interpreter": {
    "hash": "bd6f263fc755eebb9705a1037789dd7cb01391d5841f7a8e7a78f9bd6260bb09"
   }
  }
 },
 "nbformat": 4,
 "nbformat_minor": 5
}
