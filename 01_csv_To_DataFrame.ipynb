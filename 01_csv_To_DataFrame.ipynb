{
 "cells": [
  {
   "cell_type": "markdown",
   "id": "0c17dcf7-43ac-4aa9-bc3f-5503f58f57c1",
   "metadata": {
    "tags": []
   },
   "source": [
    "# PySpark"
   ]
  },
  {
   "cell_type": "code",
   "execution_count": 5,
   "id": "244aaf57-7c74-4e49-9848-b29ba3162150",
   "metadata": {
    "collapsed": true,
    "jupyter": {
     "outputs_hidden": true
    },
    "tags": []
   },
   "outputs": [
    {
     "data": {
      "text/plain": [
       "['Catalog',\n",
       " 'Column',\n",
       " 'DataFrame',\n",
       " 'DataFrameNaFunctions',\n",
       " 'DataFrameReader',\n",
       " 'DataFrameStatFunctions',\n",
       " 'DataFrameWriter',\n",
       " 'DataFrameWriterV2',\n",
       " 'GroupedData',\n",
       " 'HiveContext',\n",
       " 'Observation',\n",
       " 'PandasCogroupedOps',\n",
       " 'Row',\n",
       " 'SQLContext',\n",
       " 'SparkSession',\n",
       " 'UDFRegistration',\n",
       " 'Window',\n",
       " 'WindowSpec',\n",
       " '__all__',\n",
       " '__builtins__',\n",
       " '__cached__',\n",
       " '__doc__',\n",
       " '__file__',\n",
       " '__loader__',\n",
       " '__name__',\n",
       " '__package__',\n",
       " '__path__',\n",
       " '__spec__',\n",
       " 'catalog',\n",
       " 'column',\n",
       " 'conf',\n",
       " 'context',\n",
       " 'dataframe',\n",
       " 'functions',\n",
       " 'group',\n",
       " 'observation',\n",
       " 'pandas',\n",
       " 'readwriter',\n",
       " 'session',\n",
       " 'sql_formatter',\n",
       " 'streaming',\n",
       " 'types',\n",
       " 'udf',\n",
       " 'utils',\n",
       " 'window']"
      ]
     },
     "execution_count": 5,
     "metadata": {},
     "output_type": "execute_result"
    }
   ],
   "source": [
    "import pyspark.sql\n",
    "from pyspark.sql import *\n",
    "#from pyspark.sql import SparkSession\n",
    "\n",
    "dir(pyspark.sql) # Affiche les méthodes de la librairie\n"
   ]
  },
  {
   "cell_type": "code",
   "execution_count": 6,
   "id": "85a054b8-6219-4f4e-86d5-645b0ee54ac2",
   "metadata": {
    "tags": []
   },
   "outputs": [],
   "source": [
    "# spark = SparkSession.builder.getOrCreate() # On crée simplement la session\n",
    "spark = SparkSession.builder.master(\"local[1]\").appName(\"demoRDD\").getOrCreate() # Limiter à 1 worker similtanemnt"
   ]
  },
  {
   "cell_type": "code",
   "execution_count": 24,
   "id": "8c422eb7-0c11-4281-91d9-a5d80099b5d8",
   "metadata": {
    "tags": []
   },
   "outputs": [],
   "source": [
    "# On récupère le csv et on définit les paramétres - InferSchema permet de récupérer les infos comme le typage\n",
    "data = spark.read.csv(\"Project/Data/covid_de.csv\", header=True, inferSchema=True) "
   ]
  },
  {
   "cell_type": "code",
   "execution_count": 25,
   "id": "f706f374-0cc4-49ee-85ad-06ee38e425ea",
   "metadata": {
    "collapsed": true,
    "jupyter": {
     "outputs_hidden": true
    },
    "tags": []
   },
   "outputs": [
    {
     "name": "stdout",
     "output_type": "stream",
     "text": [
      "root\n",
      " |-- state: string (nullable = true)\n",
      " |-- county: string (nullable = true)\n",
      " |-- age_group: string (nullable = true)\n",
      " |-- gender: string (nullable = true)\n",
      " |-- date: date (nullable = true)\n",
      " |-- cases: integer (nullable = true)\n",
      " |-- deaths: integer (nullable = true)\n",
      " |-- recovered: integer (nullable = true)\n",
      "\n"
     ]
    }
   ],
   "source": [
    "data.printSchema() # On affiche le schéma"
   ]
  },
  {
   "cell_type": "code",
   "execution_count": 28,
   "id": "a73373cb-090a-48e5-a065-a30ee7c692bc",
   "metadata": {
    "tags": []
   },
   "outputs": [],
   "source": [
    "data.createOrReplaceTempView(\"covid\") # On crée une vue temporaire en la nommant"
   ]
  },
  {
   "cell_type": "code",
   "execution_count": 29,
   "id": "4cf472d4-c693-4ab3-9b4e-7de210ddd5a1",
   "metadata": {
    "collapsed": true,
    "jupyter": {
     "outputs_hidden": true
    },
    "tags": []
   },
   "outputs": [
    {
     "name": "stdout",
     "output_type": "stream",
     "text": [
      "+------------------+------------------+---------+------+----------+-----+------+---------+\n",
      "|             state|            county|age_group|gender|      date|cases|deaths|recovered|\n",
      "+------------------+------------------+---------+------+----------+-----+------+---------+\n",
      "|Baden-Wuerttemberg|LK Alb-Donau-Kreis|    00-04|     F|2020-03-27|    1|     0|        1|\n",
      "|Baden-Wuerttemberg|LK Alb-Donau-Kreis|    00-04|     F|2020-03-28|    1|     0|        1|\n",
      "|Baden-Wuerttemberg|LK Alb-Donau-Kreis|    00-04|     F|2020-04-03|    1|     0|        1|\n",
      "|Baden-Wuerttemberg|LK Alb-Donau-Kreis|    00-04|     M|2020-04-05|    1|     0|        1|\n",
      "|Baden-Wuerttemberg|LK Alb-Donau-Kreis|    00-04|     M|2020-05-18|    1|     0|        1|\n",
      "|Baden-Wuerttemberg|LK Alb-Donau-Kreis|    05-14|     F|2020-03-17|    1|     0|        1|\n",
      "|Baden-Wuerttemberg|LK Alb-Donau-Kreis|    05-14|     F|2020-03-25|    1|     0|        1|\n",
      "|Baden-Wuerttemberg|LK Alb-Donau-Kreis|    05-14|     F|2020-03-26|    1|     0|        1|\n",
      "|Baden-Wuerttemberg|LK Alb-Donau-Kreis|    05-14|     F|2020-03-29|    1|     0|        1|\n",
      "|Baden-Wuerttemberg|LK Alb-Donau-Kreis|    05-14|     F|2020-03-31|    1|     0|        1|\n",
      "|Baden-Wuerttemberg|LK Alb-Donau-Kreis|    05-14|     F|2020-04-01|    1|     0|        1|\n",
      "|Baden-Wuerttemberg|LK Alb-Donau-Kreis|    05-14|     F|2020-04-09|    1|     0|        1|\n",
      "|Baden-Wuerttemberg|LK Alb-Donau-Kreis|    05-14|     F|2020-04-17|    1|     0|        1|\n",
      "|Baden-Wuerttemberg|LK Alb-Donau-Kreis|    05-14|     F|2020-04-27|    1|     0|        1|\n",
      "|Baden-Wuerttemberg|LK Alb-Donau-Kreis|    05-14|     F|2020-05-11|    1|     0|        1|\n",
      "|Baden-Wuerttemberg|LK Alb-Donau-Kreis|    05-14|     F|2020-05-23|    1|     0|        1|\n",
      "|Baden-Wuerttemberg|LK Alb-Donau-Kreis|    05-14|     M|2020-03-26|    1|     0|        1|\n",
      "|Baden-Wuerttemberg|LK Alb-Donau-Kreis|    05-14|     M|2020-03-30|    1|     0|        1|\n",
      "|Baden-Wuerttemberg|LK Alb-Donau-Kreis|    05-14|     M|2020-04-01|    2|     0|        2|\n",
      "|Baden-Wuerttemberg|LK Alb-Donau-Kreis|    05-14|     M|2020-05-23|    1|     0|        1|\n",
      "+------------------+------------------+---------+------+----------+-----+------+---------+\n",
      "only showing top 20 rows\n",
      "\n"
     ]
    }
   ],
   "source": [
    "request = spark.sql(\"select * from covid\") # On interroge la vu crée precédemment\n",
    "request.show() # Affichage du DataFrame"
   ]
  }
 ],
 "metadata": {
  "kernelspec": {
   "display_name": "Python 3 (ipykernel)",
   "language": "python",
   "name": "python3"
  },
  "language_info": {
   "codemirror_mode": {
    "name": "ipython",
    "version": 3
   },
   "file_extension": ".py",
   "mimetype": "text/x-python",
   "name": "python",
   "nbconvert_exporter": "python",
   "pygments_lexer": "ipython3",
   "version": "3.10.11"
  }
 },
 "nbformat": 4,
 "nbformat_minor": 5
}
