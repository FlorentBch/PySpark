{
 "cells": [
  {
   "cell_type": "markdown",
   "id": "0c17dcf7-43ac-4aa9-bc3f-5503f58f57c1",
   "metadata": {
    "tags": []
   },
   "source": [
    "# PySpark"
   ]
  },
  {
   "cell_type": "code",
   "execution_count": 36,
   "id": "244aaf57-7c74-4e49-9848-b29ba3162150",
   "metadata": {
    "tags": []
   },
   "outputs": [],
   "source": [
    "import pyspark.sql\n",
    "from pyspark.sql import *\n",
    "from pyspark.sql.functions import *"
   ]
  },
  {
   "cell_type": "code",
   "execution_count": 37,
   "id": "801a2306-9dd0-43db-b204-7508ccf5d0ec",
   "metadata": {
    "collapsed": true,
    "jupyter": {
     "outputs_hidden": true
    },
    "tags": []
   },
   "outputs": [
    {
     "name": "stdout",
     "output_type": "stream",
     "text": [
      "root\n",
      " |-- state: string (nullable = true)\n",
      " |-- county: string (nullable = true)\n",
      " |-- age_group: string (nullable = true)\n",
      " |-- gender: string (nullable = true)\n",
      " |-- date: date (nullable = true)\n",
      " |-- cases: integer (nullable = true)\n",
      " |-- deaths: integer (nullable = true)\n",
      " |-- recovered: integer (nullable = true)\n",
      "\n",
      "+------------------+------------------+---------+------+----------+-----+------+---------+\n",
      "|             state|            county|age_group|gender|      date|cases|deaths|recovered|\n",
      "+------------------+------------------+---------+------+----------+-----+------+---------+\n",
      "|Baden-Wuerttemberg|LK Alb-Donau-Kreis|    00-04|     F|2020-03-27|    1|     0|        1|\n",
      "|Baden-Wuerttemberg|LK Alb-Donau-Kreis|    00-04|     F|2020-03-28|    1|     0|        1|\n",
      "|Baden-Wuerttemberg|LK Alb-Donau-Kreis|    00-04|     F|2020-04-03|    1|     0|        1|\n",
      "|Baden-Wuerttemberg|LK Alb-Donau-Kreis|    00-04|     M|2020-04-05|    1|     0|        1|\n",
      "|Baden-Wuerttemberg|LK Alb-Donau-Kreis|    00-04|     M|2020-05-18|    1|     0|        1|\n",
      "|Baden-Wuerttemberg|LK Alb-Donau-Kreis|    05-14|     F|2020-03-17|    1|     0|        1|\n",
      "|Baden-Wuerttemberg|LK Alb-Donau-Kreis|    05-14|     F|2020-03-25|    1|     0|        1|\n",
      "|Baden-Wuerttemberg|LK Alb-Donau-Kreis|    05-14|     F|2020-03-26|    1|     0|        1|\n",
      "|Baden-Wuerttemberg|LK Alb-Donau-Kreis|    05-14|     F|2020-03-29|    1|     0|        1|\n",
      "|Baden-Wuerttemberg|LK Alb-Donau-Kreis|    05-14|     F|2020-03-31|    1|     0|        1|\n",
      "|Baden-Wuerttemberg|LK Alb-Donau-Kreis|    05-14|     F|2020-04-01|    1|     0|        1|\n",
      "|Baden-Wuerttemberg|LK Alb-Donau-Kreis|    05-14|     F|2020-04-09|    1|     0|        1|\n",
      "|Baden-Wuerttemberg|LK Alb-Donau-Kreis|    05-14|     F|2020-04-17|    1|     0|        1|\n",
      "|Baden-Wuerttemberg|LK Alb-Donau-Kreis|    05-14|     F|2020-04-27|    1|     0|        1|\n",
      "|Baden-Wuerttemberg|LK Alb-Donau-Kreis|    05-14|     F|2020-05-11|    1|     0|        1|\n",
      "|Baden-Wuerttemberg|LK Alb-Donau-Kreis|    05-14|     F|2020-05-23|    1|     0|        1|\n",
      "|Baden-Wuerttemberg|LK Alb-Donau-Kreis|    05-14|     M|2020-03-26|    1|     0|        1|\n",
      "|Baden-Wuerttemberg|LK Alb-Donau-Kreis|    05-14|     M|2020-03-30|    1|     0|        1|\n",
      "|Baden-Wuerttemberg|LK Alb-Donau-Kreis|    05-14|     M|2020-04-01|    2|     0|        2|\n",
      "|Baden-Wuerttemberg|LK Alb-Donau-Kreis|    05-14|     M|2020-05-23|    1|     0|        1|\n",
      "+------------------+------------------+---------+------+----------+-----+------+---------+\n",
      "only showing top 20 rows\n",
      "\n"
     ]
    }
   ],
   "source": [
    "spark = SparkSession.builder.getOrCreate() # On crée la session\n",
    "\n",
    "# On récupère le csv et on définit les paramétres - InferSchema permet de récupérer les infos comme le typage\n",
    "data = spark.read.csv(\"Data/covid_de.csv\", header=True, inferSchema=True) \n",
    "\n",
    "data.printSchema() # On affiche le schéma\n",
    "\n",
    "data.createOrReplaceTempView(\"covid\") # On crée une vue temporaire en la nommant\n",
    "\n",
    "table = spark.sql(\"select * from covid\") # On interroge la vu crée precédemment\n",
    "table.show() # Affichage du DataFrame"
   ]
  },
  {
   "cell_type": "markdown",
   "id": "81011a9e-ee4e-4a25-9fbc-a30cac067104",
   "metadata": {
    "tags": []
   },
   "source": [
    "## Le select"
   ]
  },
  {
   "cell_type": "code",
   "execution_count": 38,
   "id": "d3109268-839b-4b8c-8517-938dbb45d4c2",
   "metadata": {
    "collapsed": true,
    "jupyter": {
     "outputs_hidden": true
    },
    "tags": []
   },
   "outputs": [
    {
     "name": "stdout",
     "output_type": "stream",
     "text": [
      "+------------------+------------------+\n",
      "|             state|            county|\n",
      "+------------------+------------------+\n",
      "|Baden-Wuerttemberg|LK Alb-Donau-Kreis|\n",
      "|Baden-Wuerttemberg|LK Alb-Donau-Kreis|\n",
      "|Baden-Wuerttemberg|LK Alb-Donau-Kreis|\n",
      "|Baden-Wuerttemberg|LK Alb-Donau-Kreis|\n",
      "|Baden-Wuerttemberg|LK Alb-Donau-Kreis|\n",
      "|Baden-Wuerttemberg|LK Alb-Donau-Kreis|\n",
      "|Baden-Wuerttemberg|LK Alb-Donau-Kreis|\n",
      "|Baden-Wuerttemberg|LK Alb-Donau-Kreis|\n",
      "|Baden-Wuerttemberg|LK Alb-Donau-Kreis|\n",
      "|Baden-Wuerttemberg|LK Alb-Donau-Kreis|\n",
      "|Baden-Wuerttemberg|LK Alb-Donau-Kreis|\n",
      "|Baden-Wuerttemberg|LK Alb-Donau-Kreis|\n",
      "|Baden-Wuerttemberg|LK Alb-Donau-Kreis|\n",
      "|Baden-Wuerttemberg|LK Alb-Donau-Kreis|\n",
      "|Baden-Wuerttemberg|LK Alb-Donau-Kreis|\n",
      "|Baden-Wuerttemberg|LK Alb-Donau-Kreis|\n",
      "|Baden-Wuerttemberg|LK Alb-Donau-Kreis|\n",
      "|Baden-Wuerttemberg|LK Alb-Donau-Kreis|\n",
      "|Baden-Wuerttemberg|LK Alb-Donau-Kreis|\n",
      "|Baden-Wuerttemberg|LK Alb-Donau-Kreis|\n",
      "+------------------+------------------+\n",
      "only showing top 20 rows\n",
      "\n"
     ]
    }
   ],
   "source": [
    "display_country_and_state = table.select('state', 'county')\n",
    "display_country_and_state.show()"
   ]
  },
  {
   "cell_type": "markdown",
   "id": "1a3a5684-5a1d-404e-8e75-d02471093c2e",
   "metadata": {
    "tags": []
   },
   "source": [
    "## Le distinct"
   ]
  },
  {
   "cell_type": "code",
   "execution_count": 39,
   "id": "84dfcc24-7301-491f-9e18-368e65eef1d2",
   "metadata": {
    "collapsed": true,
    "jupyter": {
     "outputs_hidden": true
    },
    "tags": []
   },
   "outputs": [
    {
     "name": "stdout",
     "output_type": "stream",
     "text": [
      "+--------------------+--------------------+\n",
      "|               state|              county|\n",
      "+--------------------+--------------------+\n",
      "|              Bayern|           SK Passau|\n",
      "|       Niedersachsen|            SK Emden|\n",
      "|              Hessen|        SK Offenbach|\n",
      "|  Baden-Wuerttemberg|             LK Calw|\n",
      "|              Bayern|       LK Ostallgaeu|\n",
      "|              Bayern|    SK Aschaffenburg|\n",
      "|         Brandenburg|         LK Prignitz|\n",
      "| Nordrhein-Westfalen| LK Rhein-Sieg-Kreis|\n",
      "|              Bayern| LK Nuernberger Land|\n",
      "| Nordrhein-Westfalen|        LK Heinsberg|\n",
      "| Nordrhein-Westfalen|            LK Wesel|\n",
      "|         Brandenburg|       LK Oder-Spree|\n",
      "|Mecklenburg-Vorpo...|LK Ludwigslust-Pa...|\n",
      "| Nordrhein-Westfalen|       LK Euskirchen|\n",
      "|              Bayern|           LK Dachau|\n",
      "|              Bayern|  LK Straubing-Bogen|\n",
      "|              Bayern|       LK Altoetting|\n",
      "|              Bayern|           SK Amberg|\n",
      "|              Hessen|  LK Lahn-Dill-Kreis|\n",
      "|              Hessen|        LK Offenbach|\n",
      "+--------------------+--------------------+\n",
      "only showing top 20 rows\n",
      "\n"
     ]
    }
   ],
   "source": [
    "display_country_and_state_distinct = display_country_and_state.distinct()\n",
    "display_country_and_state_distinct.show()"
   ]
  },
  {
   "cell_type": "markdown",
   "id": "dd142e76-0e96-41e0-b70e-d252bf7ba6fc",
   "metadata": {
    "tags": []
   },
   "source": [
    "### En passant directement par la table"
   ]
  },
  {
   "cell_type": "code",
   "execution_count": 40,
   "id": "8a4b29dd-edd5-4db9-996b-fecc11d86857",
   "metadata": {
    "collapsed": true,
    "jupyter": {
     "outputs_hidden": true
    },
    "tags": []
   },
   "outputs": [
    {
     "name": "stdout",
     "output_type": "stream",
     "text": [
      "+--------------------+--------------------+\n",
      "|               state|              county|\n",
      "+--------------------+--------------------+\n",
      "|              Bayern|           SK Passau|\n",
      "|       Niedersachsen|            SK Emden|\n",
      "|              Hessen|        SK Offenbach|\n",
      "|  Baden-Wuerttemberg|             LK Calw|\n",
      "|              Bayern|       LK Ostallgaeu|\n",
      "|              Bayern|    SK Aschaffenburg|\n",
      "|         Brandenburg|         LK Prignitz|\n",
      "| Nordrhein-Westfalen| LK Rhein-Sieg-Kreis|\n",
      "|              Bayern| LK Nuernberger Land|\n",
      "| Nordrhein-Westfalen|        LK Heinsberg|\n",
      "| Nordrhein-Westfalen|            LK Wesel|\n",
      "|         Brandenburg|       LK Oder-Spree|\n",
      "|Mecklenburg-Vorpo...|LK Ludwigslust-Pa...|\n",
      "| Nordrhein-Westfalen|       LK Euskirchen|\n",
      "|              Bayern|           LK Dachau|\n",
      "|              Bayern|  LK Straubing-Bogen|\n",
      "|              Bayern|       LK Altoetting|\n",
      "|              Bayern|           SK Amberg|\n",
      "|              Hessen|  LK Lahn-Dill-Kreis|\n",
      "|              Hessen|        LK Offenbach|\n",
      "+--------------------+--------------------+\n",
      "only showing top 20 rows\n",
      "\n"
     ]
    }
   ],
   "source": [
    "display_country_and_state_distinct = table.select('state', 'county').distinct()\n",
    "display_country_and_state_distinct.show()"
   ]
  },
  {
   "cell_type": "markdown",
   "id": "76a89816-0dc2-44e1-8a29-2b6e7af1250f",
   "metadata": {
    "tags": []
   },
   "source": [
    "## Utilisation des filters"
   ]
  },
  {
   "cell_type": "markdown",
   "id": "f1d6f65c-91ae-4816-b22c-4f01962808ad",
   "metadata": {
    "tags": []
   },
   "source": [
    "### Conditions avec StartWith et =="
   ]
  },
  {
   "cell_type": "code",
   "execution_count": 62,
   "id": "a771edff-2fab-4f27-aef4-1c6b3159a1db",
   "metadata": {
    "collapsed": true,
    "jupyter": {
     "outputs_hidden": true
    },
    "tags": []
   },
   "outputs": [
    {
     "name": "stdout",
     "output_type": "stream",
     "text": [
      "+------------------+--------------------+\n",
      "|             state|              county|\n",
      "+------------------+--------------------+\n",
      "|            Bayern|           SK Passau|\n",
      "|Baden-Wuerttemberg|             LK Calw|\n",
      "|            Bayern|       LK Ostallgaeu|\n",
      "|            Bayern|    SK Aschaffenburg|\n",
      "|       Brandenburg|         LK Prignitz|\n",
      "|            Bayern| LK Nuernberger Land|\n",
      "|       Brandenburg|       LK Oder-Spree|\n",
      "|            Bayern|           LK Dachau|\n",
      "|            Bayern|  LK Straubing-Bogen|\n",
      "|            Bayern|       LK Altoetting|\n",
      "|            Bayern|           SK Amberg|\n",
      "|            Berlin| SK Berlin Neukoelln|\n",
      "|Baden-Wuerttemberg|        SK Stuttgart|\n",
      "|Baden-Wuerttemberg|         LK Enzkreis|\n",
      "|            Bayern|          LK Bamberg|\n",
      "|            Bayern|      LK Lichtenfels|\n",
      "|Baden-Wuerttemberg|LK Main-Tauber-Kreis|\n",
      "|            Bayern|       SK Regensburg|\n",
      "|            Bayern|          LK Ansbach|\n",
      "|            Bayern|     LK Unterallgaeu|\n",
      "+------------------+--------------------+\n",
      "only showing top 20 rows\n",
      "\n"
     ]
    }
   ],
   "source": [
    "# from pyspark.sql.functions import *\n",
    "\n",
    "show_data_start_by_b = display_country_and_state_distinct.filter(col('state').startswith('B')) # Récupération des lignes correspondant aux states commencant par la lettre 'B'\n",
    "#show_data_start_by_b = display_country_and_state_distinct.filter(col('state') == 'Bayern') \n",
    "\n",
    "show_data_start_by_b.show()"
   ]
  },
  {
   "cell_type": "markdown",
   "id": "b42a9c7e-5bf6-4337-acee-a98490fda678",
   "metadata": {},
   "source": [
    "### Conditions en AND"
   ]
  },
  {
   "cell_type": "code",
   "execution_count": 80,
   "id": "03bd04d9-44f5-4d87-b7be-952b00e595a6",
   "metadata": {
    "collapsed": true,
    "jupyter": {
     "outputs_hidden": true
    },
    "tags": []
   },
   "outputs": [
    {
     "name": "stdout",
     "output_type": "stream",
     "text": [
      "25318\n"
     ]
    }
   ],
   "source": [
    "women_recovered = table.filter((col('gender') == 'F') & (col('recovered') == 1)).count() # Récupération des femmes ET qui sont soigné\n",
    "print(women_recovered)"
   ]
  },
  {
   "cell_type": "markdown",
   "id": "18e71d74-b025-47d8-864e-3bfa2a9b99f9",
   "metadata": {},
   "source": [
    "### Conditions en OR"
   ]
  },
  {
   "cell_type": "code",
   "execution_count": null,
   "id": "374c824e-a3dc-4941-b663-b81f0c22ef78",
   "metadata": {
    "tags": []
   },
   "outputs": [],
   "source": [
    "state_Bayern_Hessen = table.filter((col('county') == 'Bayern') | (col('state') == 'Hessen')).count() # Récupération des county Bayern OU des states Hessen\n",
    "print(state_Bayern_Hessen)"
   ]
  },
  {
   "cell_type": "markdown",
   "id": "ad549b34-9e3d-4b3f-9fd0-4574945e2938",
   "metadata": {},
   "source": [
    "## Le trie"
   ]
  },
  {
   "cell_type": "code",
   "execution_count": 78,
   "id": "5d2bae1f-cf28-46fa-b4e6-ba72814e8318",
   "metadata": {
    "collapsed": true,
    "jupyter": {
     "outputs_hidden": true
    },
    "tags": []
   },
   "outputs": [
    {
     "name": "stdout",
     "output_type": "stream",
     "text": [
      "+------+--------------------+---------+------+----------+-----+------+---------+\n",
      "| state|              county|age_group|gender|      date|cases|deaths|recovered|\n",
      "+------+--------------------+---------+------+----------+-----+------+---------+\n",
      "|Hessen|LK Rheingau-Taunu...|    00-04|     M|2020-07-22|    1|     0|        0|\n",
      "|Hessen|    LK Wetteraukreis|    00-04|     M|2020-07-21|    1|     0|        0|\n",
      "|Hessen|    LK Wetteraukreis|    00-04|     M|2020-07-19|    1|     0|        0|\n",
      "|Hessen|LK Waldeck-Franke...|    00-04|     M|2020-07-18|    1|     0|        0|\n",
      "|Hessen|        SK Wiesbaden|    00-04|     F|2020-07-18|    1|     0|        0|\n",
      "|Hessen|        LK Offenbach|    00-04|     F|2020-07-17|    1|     0|        0|\n",
      "|Hessen|SK Frankfurt am Main|    00-04|     F|2020-07-17|    1|     0|        0|\n",
      "|Hessen|LK Main-Taunus-Kreis|    00-04|     F|2020-07-16|    1|     0|        0|\n",
      "|Hessen|           SK Kassel|    00-04|     M|2020-07-16|    1|     0|        0|\n",
      "|Hessen|        SK Wiesbaden|    00-04|     F|2020-07-16|    1|     0|        0|\n",
      "|Hessen|        SK Wiesbaden|    00-04|     M|2020-07-16|    1|     0|        0|\n",
      "|Hessen|LK Main-Kinzig-Kreis|    00-04|     M|2020-07-15|    1|     0|        0|\n",
      "|Hessen|      LK Gross-Gerau|    00-04|     M|2020-07-15|    1|     0|        0|\n",
      "|Hessen|        LK Offenbach|    00-04|     F|2020-07-14|    1|     0|        0|\n",
      "|Hessen|        SK Offenbach|    00-04|     F|2020-07-13|    1|     0|        0|\n",
      "|Hessen|            LK Fulda|    00-04|     F|2020-07-11|    1|     0|        0|\n",
      "|Hessen|    LK Odenwaldkreis|    00-04|     F|2020-07-11|    2|     0|        0|\n",
      "|Hessen|            LK Fulda|    00-04|     M|2020-07-11|    1|     0|        0|\n",
      "|Hessen|      LK Gross-Gerau|    00-04|     M|2020-07-10|    2|     0|        0|\n",
      "|Hessen|LK Rheingau-Taunu...|    00-04|     M|2020-07-09|    1|     0|        1|\n",
      "+------+--------------------+---------+------+----------+-----+------+---------+\n",
      "only showing top 20 rows\n",
      "\n"
     ]
    }
   ],
   "source": [
    "#trie = table.sort(col('age_group').asc()).show()\n",
    "\n",
    "Trie= table.filter((col('county') == 'Bayern') |\\\n",
    "                   (col('state') == 'Hessen')). \\\n",
    "            sort(col('age_group').asc(), \\\n",
    "                 col('date').desc()).\\\n",
    "            show()\n"
   ]
  },
  {
   "cell_type": "markdown",
   "id": "4b4f689b-7aa6-4af2-91b8-e0e10d9f926a",
   "metadata": {},
   "source": [
    "## La limite"
   ]
  },
  {
   "cell_type": "code",
   "execution_count": 79,
   "id": "538235f0-1477-4685-a0cb-b63cd37cd218",
   "metadata": {
    "collapsed": true,
    "jupyter": {
     "outputs_hidden": true
    },
    "tags": []
   },
   "outputs": [
    {
     "name": "stdout",
     "output_type": "stream",
     "text": [
      "+------------------+------------------+---------+------+----------+-----+------+---------+\n",
      "|             state|            county|age_group|gender|      date|cases|deaths|recovered|\n",
      "+------------------+------------------+---------+------+----------+-----+------+---------+\n",
      "|Baden-Wuerttemberg|LK Alb-Donau-Kreis|    00-04|     F|2020-03-27|    1|     0|        1|\n",
      "|Baden-Wuerttemberg|LK Alb-Donau-Kreis|    00-04|     F|2020-03-28|    1|     0|        1|\n",
      "|Baden-Wuerttemberg|LK Alb-Donau-Kreis|    00-04|     F|2020-04-03|    1|     0|        1|\n",
      "|Baden-Wuerttemberg|LK Alb-Donau-Kreis|    00-04|     M|2020-04-05|    1|     0|        1|\n",
      "|Baden-Wuerttemberg|LK Alb-Donau-Kreis|    00-04|     M|2020-05-18|    1|     0|        1|\n",
      "+------------------+------------------+---------+------+----------+-----+------+---------+\n",
      "\n"
     ]
    }
   ],
   "source": [
    "limite = table.limit(5).show()"
   ]
  },
  {
   "cell_type": "markdown",
   "id": "d288b37e-57e9-4d78-a4bc-d859cbec3118",
   "metadata": {
    "tags": []
   },
   "source": [
    "## Les  aggrégrations "
   ]
  },
  {
   "cell_type": "code",
   "execution_count": 87,
   "id": "b01fe0de-6d32-4fa1-ac4c-07604076668f",
   "metadata": {
    "collapsed": true,
    "jupyter": {
     "outputs_hidden": true
    },
    "tags": []
   },
   "outputs": [
    {
     "name": "stdout",
     "output_type": "stream",
     "text": [
      "+------+-----------+\n",
      "|gender|sommeDeaths|\n",
      "+------+-----------+\n",
      "|     M|       5030|\n",
      "|     F|       4066|\n",
      "|    NA|          5|\n",
      "+------+-----------+\n",
      "\n"
     ]
    }
   ],
   "source": [
    "deaths_by_gender = table.select('gender', 'deaths')\\\n",
    "                        .groupby('gender')\\\n",
    "                        .agg(\\\n",
    "                             sum(col('deaths')).alias('sommeDeaths'))\\\n",
    "                        .sort(col('sommedeaths').desc())\\\n",
    "                        .show()"
   ]
  },
  {
   "cell_type": "code",
   "execution_count": 89,
   "id": "2780343a-33f8-4b1f-8f76-1f6501f2c867",
   "metadata": {
    "collapsed": true,
    "jupyter": {
     "outputs_hidden": true
    },
    "tags": []
   },
   "outputs": [
    {
     "name": "stdout",
     "output_type": "stream",
     "text": [
      "+------+-----------+\n",
      "|gender|sommeDeaths|\n",
      "+------+-----------+\n",
      "|     M|       5030|\n",
      "+------+-----------+\n",
      "\n"
     ]
    }
   ],
   "source": [
    "deaths_by_gender_sum_5k = table.select('gender', 'deaths')\\\n",
    "                        .groupby('gender')\\\n",
    "                        .agg(\\\n",
    "                             sum(col('deaths')).alias('sommeDeaths'))\\\n",
    "                        .filter(col('sommeDeaths') > 5000)\\\n",
    "                        .sort(col('sommedeaths').desc())\\\n",
    "                        .show()"
   ]
  },
  {
   "cell_type": "markdown",
   "id": "ef4c0528-e482-4d9b-94d1-407e9942af36",
   "metadata": {},
   "source": [
    "## Ajouter une colonne"
   ]
  },
  {
   "cell_type": "code",
   "execution_count": 96,
   "id": "67c04d3b-c577-4b96-99eb-d269f4849136",
   "metadata": {
    "collapsed": true,
    "jupyter": {
     "outputs_hidden": true
    },
    "tags": []
   },
   "outputs": [
    {
     "name": "stdout",
     "output_type": "stream",
     "text": [
      "+------------------+------------------+---------+------+----------+-----+------+---------+-----+\n",
      "|             state|            county|age_group|gender|      date|cases|deaths|recovered|  add|\n",
      "+------------------+------------------+---------+------+----------+-----+------+---------+-----+\n",
      "|Baden-Wuerttemberg|LK Alb-Donau-Kreis|    00-04|     F|2020-03-27|    1|     0|        1|false|\n",
      "|Baden-Wuerttemberg|LK Alb-Donau-Kreis|    00-04|     F|2020-03-28|    1|     0|        1|false|\n",
      "|Baden-Wuerttemberg|LK Alb-Donau-Kreis|    00-04|     F|2020-04-03|    1|     0|        1|false|\n",
      "|Baden-Wuerttemberg|LK Alb-Donau-Kreis|    00-04|     M|2020-04-05|    1|     0|        1|false|\n",
      "|Baden-Wuerttemberg|LK Alb-Donau-Kreis|    00-04|     M|2020-05-18|    1|     0|        1|false|\n",
      "|Baden-Wuerttemberg|LK Alb-Donau-Kreis|    05-14|     F|2020-03-17|    1|     0|        1|false|\n",
      "|Baden-Wuerttemberg|LK Alb-Donau-Kreis|    05-14|     F|2020-03-25|    1|     0|        1|false|\n",
      "|Baden-Wuerttemberg|LK Alb-Donau-Kreis|    05-14|     F|2020-03-26|    1|     0|        1|false|\n",
      "|Baden-Wuerttemberg|LK Alb-Donau-Kreis|    05-14|     F|2020-03-29|    1|     0|        1|false|\n",
      "|Baden-Wuerttemberg|LK Alb-Donau-Kreis|    05-14|     F|2020-03-31|    1|     0|        1|false|\n",
      "|Baden-Wuerttemberg|LK Alb-Donau-Kreis|    05-14|     F|2020-04-01|    1|     0|        1|false|\n",
      "|Baden-Wuerttemberg|LK Alb-Donau-Kreis|    05-14|     F|2020-04-09|    1|     0|        1|false|\n",
      "|Baden-Wuerttemberg|LK Alb-Donau-Kreis|    05-14|     F|2020-04-17|    1|     0|        1|false|\n",
      "|Baden-Wuerttemberg|LK Alb-Donau-Kreis|    05-14|     F|2020-04-27|    1|     0|        1|false|\n",
      "|Baden-Wuerttemberg|LK Alb-Donau-Kreis|    05-14|     F|2020-05-11|    1|     0|        1|false|\n",
      "|Baden-Wuerttemberg|LK Alb-Donau-Kreis|    05-14|     F|2020-05-23|    1|     0|        1|false|\n",
      "|Baden-Wuerttemberg|LK Alb-Donau-Kreis|    05-14|     M|2020-03-26|    1|     0|        1|false|\n",
      "|Baden-Wuerttemberg|LK Alb-Donau-Kreis|    05-14|     M|2020-03-30|    1|     0|        1|false|\n",
      "|Baden-Wuerttemberg|LK Alb-Donau-Kreis|    05-14|     M|2020-04-01|    2|     0|        2|false|\n",
      "|Baden-Wuerttemberg|LK Alb-Donau-Kreis|    05-14|     M|2020-05-23|    1|     0|        1|false|\n",
      "+------------------+------------------+---------+------+----------+-----+------+---------+-----+\n",
      "only showing top 20 rows\n",
      "\n"
     ]
    }
   ],
   "source": [
    "add_column = table.withColumn('add', lit(False)) # Lit permet de créer des constantes dans une nouvelle colonne\n",
    "\n",
    "add_column.show()"
   ]
  }
 ],
 "metadata": {
  "kernelspec": {
   "display_name": "Python 3 (ipykernel)",
   "language": "python",
   "name": "python3"
  },
  "language_info": {
   "codemirror_mode": {
    "name": "ipython",
    "version": 3
   },
   "file_extension": ".py",
   "mimetype": "text/x-python",
   "name": "python",
   "nbconvert_exporter": "python",
   "pygments_lexer": "ipython3",
   "version": "3.10.11"
  }
 },
 "nbformat": 4,
 "nbformat_minor": 5
}
