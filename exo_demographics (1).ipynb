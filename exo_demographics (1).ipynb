{
 "cells": [
  {
   "cell_type": "code",
   "execution_count": 92,
   "id": "368a2e7b-90f8-45ae-8fee-cb67aa0ac197",
   "metadata": {
    "collapsed": true,
    "jupyter": {
     "outputs_hidden": true
    },
    "tags": []
   },
   "outputs": [
    {
     "name": "stdout",
     "output_type": "stream",
     "text": [
      "root\n",
      " |-- state: string (nullable = true)\n",
      " |-- gender: string (nullable = true)\n",
      " |-- age_group: string (nullable = true)\n",
      " |-- population: integer (nullable = true)\n",
      "\n",
      "+------------------+------+---------+----------+\n",
      "|             state|gender|age_group|population|\n",
      "+------------------+------+---------+----------+\n",
      "|Baden-Wuerttemberg|female|    00-04|    261674|\n",
      "|Baden-Wuerttemberg|female|    05-14|    490822|\n",
      "|Baden-Wuerttemberg|female|    15-34|   1293488|\n",
      "|Baden-Wuerttemberg|female|    35-59|   1919649|\n",
      "|Baden-Wuerttemberg|female|    60-79|   1182736|\n",
      "|Baden-Wuerttemberg|female|    80-99|    419471|\n",
      "|Baden-Wuerttemberg|  male|    00-04|    274882|\n",
      "|Baden-Wuerttemberg|  male|    05-14|    517387|\n",
      "|Baden-Wuerttemberg|  male|    15-34|   1423367|\n",
      "|Baden-Wuerttemberg|  male|    35-59|   1955828|\n",
      "|Baden-Wuerttemberg|  male|    60-79|   1065669|\n",
      "|Baden-Wuerttemberg|  male|    80-99|    264560|\n",
      "|            Bayern|female|    00-04|    306378|\n",
      "|            Bayern|female|    05-14|    560549|\n",
      "|            Bayern|female|    15-34|   1507659|\n",
      "|            Bayern|female|    35-59|   2310659|\n",
      "|            Bayern|female|    60-79|   1421273|\n",
      "|            Bayern|female|    80-99|    486410|\n",
      "|            Bayern|  male|    00-04|    321629|\n",
      "|            Bayern|  male|    05-14|    590551|\n",
      "+------------------+------+---------+----------+\n",
      "only showing top 20 rows\n",
      "\n"
     ]
    }
   ],
   "source": [
    "import pyspark.sql\n",
    "from pyspark.sql import *\n",
    "from pyspark.sql.functions import *\n",
    "\n",
    "spark = SparkSession.builder.getOrCreate() # On crée la session\n",
    "\n",
    "# On récupère le csv et on définit les paramétres - InferSchema permet de récupérer les infos comme le typage\n",
    "data = spark.read.csv(\"../Data/demographics_de.csv\", header=True, inferSchema=True) \n",
    "\n",
    "data.printSchema() # On affiche le schéma\n",
    "\n",
    "data.createOrReplaceTempView(\"demo\") # On crée une vue temporaire en la nommant\n",
    "\n",
    "table = spark.sql(\"select * from demo\") # On interroge la vu crée precédemment\n",
    "table.show() # Affichage du DataFrame"
   ]
  },
  {
   "cell_type": "markdown",
   "id": "675c8915-a10b-4187-85cf-c1daf3bd0942",
   "metadata": {
    "tags": []
   },
   "source": [
    "## Exercice 1: Afficher les cinq premières lignes du DataFrame.\n",
    "\n"
   ]
  },
  {
   "cell_type": "code",
   "execution_count": 93,
   "id": "3280b26f-14be-48bc-9047-b4e25132a6d3",
   "metadata": {
    "collapsed": true,
    "jupyter": {
     "outputs_hidden": true
    },
    "tags": []
   },
   "outputs": [
    {
     "name": "stdout",
     "output_type": "stream",
     "text": [
      "+------------------+------+---------+----------+\n",
      "|             state|gender|age_group|population|\n",
      "+------------------+------+---------+----------+\n",
      "|Baden-Wuerttemberg|female|    00-04|    261674|\n",
      "|Baden-Wuerttemberg|female|    05-14|    490822|\n",
      "|Baden-Wuerttemberg|female|    15-34|   1293488|\n",
      "|Baden-Wuerttemberg|female|    35-59|   1919649|\n",
      "|Baden-Wuerttemberg|female|    60-79|   1182736|\n",
      "+------------------+------+---------+----------+\n",
      "\n"
     ]
    }
   ],
   "source": [
    "Five_First = table.limit(5).show()"
   ]
  },
  {
   "cell_type": "markdown",
   "id": "f14457e7-4066-4803-a2f7-83edbd5b21cf",
   "metadata": {},
   "source": [
    "## Exercice 2: Compter le nombre total de lignes dans le DataFrame.\n",
    "\n"
   ]
  },
  {
   "cell_type": "code",
   "execution_count": 94,
   "id": "cda39ece-7392-40e2-94d3-0bc4eddf3995",
   "metadata": {
    "tags": []
   },
   "outputs": [
    {
     "name": "stdout",
     "output_type": "stream",
     "text": [
      "192\n"
     ]
    }
   ],
   "source": [
    "Count_Lines = table.count()\n",
    "print(Count_Lines)"
   ]
  },
  {
   "cell_type": "markdown",
   "id": "b5ec5f3d-d8b5-409c-9af5-fbacba8eb4d0",
   "metadata": {},
   "source": [
    "## Exercice 3: Trouver le nombre distinct d'états (states) présents dans le DataFrame.\n",
    "\n"
   ]
  },
  {
   "cell_type": "code",
   "execution_count": 95,
   "id": "100a4c4d-2692-4750-ad75-207c7cf71a51",
   "metadata": {
    "tags": []
   },
   "outputs": [
    {
     "name": "stdout",
     "output_type": "stream",
     "text": [
      "16\n"
     ]
    }
   ],
   "source": [
    "Nbr_Distinct_Etat = table.select(col('state')).distinct().count()\n",
    "print(Nbr_Distinct_Etat)"
   ]
  },
  {
   "cell_type": "markdown",
   "id": "a1f768cc-11c5-435c-a0d9-7dbcb6cf3cc3",
   "metadata": {},
   "source": [
    "## Exercice 4: Calculer la somme de la population totale.\n",
    "\n"
   ]
  },
  {
   "cell_type": "code",
   "execution_count": 96,
   "id": "1817cb7d-c13a-4d8c-81b6-fd8b186d022c",
   "metadata": {
    "tags": []
   },
   "outputs": [],
   "source": [
    "Total_Population = table.select(col('population')).agg(sum(col('population')))"
   ]
  },
  {
   "cell_type": "markdown",
   "id": "75b81471-bcd8-422d-be0c-444b29ffc09d",
   "metadata": {},
   "source": [
    "## Exercice 5: Afficher la population maximale par groupe d'âge (age_group).\n",
    "\n"
   ]
  },
  {
   "cell_type": "code",
   "execution_count": 97,
   "id": "a76e19e8-39c4-494d-bdb0-c934030e3f0f",
   "metadata": {
    "collapsed": true,
    "jupyter": {
     "outputs_hidden": true
    },
    "tags": []
   },
   "outputs": [
    {
     "name": "stdout",
     "output_type": "stream",
     "text": [
      "+---------+---------------+\n",
      "|age_group|max(population)|\n",
      "+---------+---------------+\n",
      "|    00-04|         440708|\n",
      "|    05-14|         832251|\n",
      "|    15-34|        2188068|\n",
      "|    35-59|        3147565|\n",
      "|    60-79|        2009976|\n",
      "|    80-99|         729148|\n",
      "+---------+---------------+\n",
      "\n"
     ]
    }
   ],
   "source": [
    "Population_Max_Par_Age = table\\\n",
    "                            .select('age_group', 'population')\\\n",
    "                            .groupby(col('age_group'))\\\n",
    "                            .agg(max(col('population')))\\\n",
    "                            .orderBy(col('age_group'))\\\n",
    "                            .show()\n"
   ]
  },
  {
   "cell_type": "markdown",
   "id": "54f88748-3222-44ee-b470-203fd31eec16",
   "metadata": {},
   "source": [
    "## Exercice 6: Filtrer les lignes du DataFrame pour n'inclure que les états (states) dont la population dépasse 1 million.\n",
    "\n"
   ]
  },
  {
   "cell_type": "code",
   "execution_count": 98,
   "id": "af2509aa-9e6d-4b59-a6da-823da1f7346b",
   "metadata": {
    "collapsed": true,
    "jupyter": {
     "outputs_hidden": true
    },
    "tags": []
   },
   "outputs": [
    {
     "name": "stdout",
     "output_type": "stream",
     "text": [
      "+-------------------+------+---------+----------+\n",
      "|              state|gender|age_group|population|\n",
      "+-------------------+------+---------+----------+\n",
      "| Baden-Wuerttemberg|female|    15-34|   1293488|\n",
      "| Baden-Wuerttemberg|female|    35-59|   1919649|\n",
      "| Baden-Wuerttemberg|female|    60-79|   1182736|\n",
      "| Baden-Wuerttemberg|  male|    15-34|   1423367|\n",
      "| Baden-Wuerttemberg|  male|    35-59|   1955828|\n",
      "| Baden-Wuerttemberg|  male|    60-79|   1065669|\n",
      "|             Bayern|female|    15-34|   1507659|\n",
      "|             Bayern|female|    35-59|   2310659|\n",
      "|             Bayern|female|    60-79|   1421273|\n",
      "|             Bayern|  male|    15-34|   1639500|\n",
      "|             Bayern|  male|    35-59|   2348310|\n",
      "|             Bayern|  male|    60-79|   1285577|\n",
      "|             Hessen|female|    35-59|   1111053|\n",
      "|             Hessen|  male|    35-59|   1111560|\n",
      "|      Niedersachsen|female|    35-59|   1392647|\n",
      "|      Niedersachsen|  male|    35-59|   1391992|\n",
      "|Nordrhein-Westfalen|female|    15-34|   2047533|\n",
      "|Nordrhein-Westfalen|female|    35-59|   3147565|\n",
      "|Nordrhein-Westfalen|female|    60-79|   2009976|\n",
      "|Nordrhein-Westfalen|  male|    15-34|   2188068|\n",
      "+-------------------+------+---------+----------+\n",
      "only showing top 20 rows\n",
      "\n"
     ]
    }
   ],
   "source": [
    "Etat_Sup_1Million = table.filter(col('population') > 1000000).show()"
   ]
  },
  {
   "cell_type": "markdown",
   "id": "1c08ee83-f42f-4bd6-b73f-44858073251d",
   "metadata": {},
   "source": [
    "## Exercice 7: Calculer la moyenne de la population pour chaque groupe d'âge (age_group).\n",
    "\n"
   ]
  },
  {
   "cell_type": "code",
   "execution_count": 99,
   "id": "3c543e51-2bbc-4dc4-bbea-a1909cc93396",
   "metadata": {
    "collapsed": true,
    "jupyter": {
     "outputs_hidden": true
    },
    "tags": []
   },
   "outputs": [
    {
     "name": "stdout",
     "output_type": "stream",
     "text": [
      "+---------+---------------+\n",
      "|age_group|avg(population)|\n",
      "+---------+---------------+\n",
      "|    80-99|    168409.5625|\n",
      "|    05-14|    230138.0625|\n",
      "|    35-59|   910557.46875|\n",
      "|    60-79|     562135.625|\n",
      "|    00-04|   122699.90625|\n",
      "|    15-34|   600409.78125|\n",
      "+---------+---------------+\n",
      "\n"
     ]
    }
   ],
   "source": [
    "Moyenne_Population_Par_Age = table.select('population', 'age_group').groupby(col('age_group')).agg(avg(col('population'))).show()"
   ]
  },
  {
   "cell_type": "markdown",
   "id": "0c57825b-e204-4438-919c-52a3a8fad333",
   "metadata": {},
   "source": [
    "## Exercice 8: Trier le DataFrame par ordre décroissant de population.\n",
    "\n"
   ]
  },
  {
   "cell_type": "code",
   "execution_count": 100,
   "id": "193e31f5-6f81-431f-8e23-042d03730598",
   "metadata": {
    "collapsed": true,
    "jupyter": {
     "outputs_hidden": true
    },
    "tags": []
   },
   "outputs": [
    {
     "name": "stdout",
     "output_type": "stream",
     "text": [
      "+--------------------+------+---------+----------+\n",
      "|               state|gender|age_group|population|\n",
      "+--------------------+------+---------+----------+\n",
      "|              Bremen|  male|    80-99|     15906|\n",
      "|              Bremen|female|    00-04|     16202|\n",
      "|              Bremen|  male|    00-04|     17380|\n",
      "|            Saarland|female|    00-04|     19857|\n",
      "|            Saarland|  male|    00-04|     21008|\n",
      "|            Saarland|  male|    80-99|     26915|\n",
      "|              Bremen|female|    80-99|     27937|\n",
      "|              Bremen|female|    05-14|     28300|\n",
      "|              Bremen|  male|    05-14|     30195|\n",
      "|Mecklenburg-Vorpo...|female|    00-04|     33432|\n",
      "|Mecklenburg-Vorpo...|  male|    00-04|     34712|\n",
      "|             Hamburg|  male|    80-99|     38042|\n",
      "|            Saarland|female|    05-14|     38101|\n",
      "|            Saarland|  male|    05-14|     40909|\n",
      "|Mecklenburg-Vorpo...|  male|    80-99|     42614|\n",
      "|      Sachsen-Anhalt|female|    00-04|     44389|\n",
      "|          Thueringen|female|    00-04|     44902|\n",
      "|            Saarland|female|    80-99|     45781|\n",
      "|      Sachsen-Anhalt|  male|    00-04|     46757|\n",
      "|          Thueringen|  male|    00-04|     47365|\n",
      "+--------------------+------+---------+----------+\n",
      "only showing top 20 rows\n",
      "\n"
     ]
    }
   ],
   "source": [
    "Tri_Desc_Population = table.sort(col('population')).show()"
   ]
  },
  {
   "cell_type": "markdown",
   "id": "7f67fefc-2b53-4a0f-8f29-a04ed781a12d",
   "metadata": {},
   "source": [
    "## Exercice 9: Sélectionner les lignes du DataFrame où l'âge (age_group) est \"18-24\" et le sexe (gender) est \"F\".\n",
    "\n"
   ]
  },
  {
   "cell_type": "code",
   "execution_count": 101,
   "id": "fb9bc89c-c6b9-4ef9-9cf6-38c146bd72ca",
   "metadata": {
    "collapsed": true,
    "jupyter": {
     "outputs_hidden": true
    },
    "tags": []
   },
   "outputs": [
    {
     "name": "stdout",
     "output_type": "stream",
     "text": [
      "+--------------------+------+---------+----------+\n",
      "|               state|gender|age_group|population|\n",
      "+--------------------+------+---------+----------+\n",
      "|  Baden-Wuerttemberg|female|    15-34|   1293488|\n",
      "|              Bayern|female|    15-34|   1507659|\n",
      "|              Berlin|female|    15-34|    477479|\n",
      "|         Brandenburg|female|    15-34|    213065|\n",
      "|              Bremen|female|    15-34|     83990|\n",
      "|             Hamburg|female|    15-34|    246744|\n",
      "|              Hessen|female|    15-34|    715254|\n",
      "|Mecklenburg-Vorpo...|female|    15-34|    146826|\n",
      "|       Niedersachsen|female|    15-34|    875509|\n",
      "| Nordrhein-Westfalen|female|    15-34|   2047533|\n",
      "|     Rheinland-Pfalz|female|    15-34|    448341|\n",
      "|            Saarland|female|    15-34|    103235|\n",
      "|             Sachsen|female|    15-34|    386154|\n",
      "|      Sachsen-Anhalt|female|    15-34|    193271|\n",
      "|  Schleswig-Holstein|female|    15-34|    305125|\n",
      "|          Thueringen|female|    15-34|    191712|\n",
      "+--------------------+------+---------+----------+\n",
      "\n"
     ]
    }
   ],
   "source": [
    "Femme_Age1824 = table.filter((col('age_group') == '15-34') & (col('gender')=='female')).show()"
   ]
  },
  {
   "cell_type": "markdown",
   "id": "ec28f498-28a9-43c8-8e82-9574dc40b5d7",
   "metadata": {},
   "source": [
    "## Exercice 10: Ajouter une nouvelle colonne \"population_percentage\" qui représente la proportion de la population par rapport à la population totale.\n"
   ]
  },
  {
   "cell_type": "code",
   "execution_count": 102,
   "id": "adb71aed-3a0d-4c13-a0b9-9cf5b400174a",
   "metadata": {
    "collapsed": true,
    "jupyter": {
     "outputs_hidden": true
    },
    "tags": []
   },
   "outputs": [
    {
     "name": "stdout",
     "output_type": "stream",
     "text": [
      "+------------------+------+---------+----------+---------------------+\n",
      "|             state|gender|age_group|population|population_percentage|\n",
      "+------------------+------+---------+----------+---------------------+\n",
      "|Baden-Wuerttemberg|female|    00-04|    261674|  0.31519691712808695|\n",
      "|Baden-Wuerttemberg|female|    05-14|    490822|   0.5912149516522157|\n",
      "|Baden-Wuerttemberg|female|    15-34|   1293488|   1.5580586146968172|\n",
      "|Baden-Wuerttemberg|female|    35-59|   1919649|    2.312294866008908|\n",
      "|Baden-Wuerttemberg|female|    60-79|   1182736|   1.4246533510261052|\n",
      "|Baden-Wuerttemberg|female|    80-99|    419471|   0.5052697861638366|\n",
      "|Baden-Wuerttemberg|  male|    00-04|    274882|   0.3311064873621483|\n",
      "|Baden-Wuerttemberg|  male|    05-14|    517387|   0.6232135686470552|\n",
      "|Baden-Wuerttemberg|  male|    15-34|   1423367|   1.7145031235119033|\n",
      "|Baden-Wuerttemberg|  male|    35-59|   1955828|   2.3558739348685465|\n",
      "|Baden-Wuerttemberg|  male|    60-79|   1065669|   1.2836414144277664|\n",
      "|Baden-Wuerttemberg|  male|    80-99|    264560|   0.3186732208603327|\n",
      "|            Bayern|female|    00-04|    306378|     0.36904469330491|\n",
      "|            Bayern|female|    05-14|    560549|   0.6752039434534268|\n",
      "|            Bayern|female|    15-34|   1507659|   1.8160362469347908|\n",
      "|            Bayern|female|    35-59|   2310659|    2.783282226488945|\n",
      "|            Bayern|female|    60-79|   1421273|   1.7119808158142862|\n",
      "|            Bayern|female|    80-99|    486410|   0.5859005191966828|\n",
      "|            Bayern|  male|    00-04|    321629|   0.3874151396737524|\n",
      "|            Bayern|  male|    05-14|    590551|   0.7113425659672298|\n",
      "+------------------+------+---------+----------+---------------------+\n",
      "only showing top 20 rows\n",
      "\n"
     ]
    }
   ],
   "source": [
    "add_column = table.withColumn('population_percentage', (col('population')*100/Total_Population.collect()[0][0]))\n",
    "add_column.show()"
   ]
  }
 ],
 "metadata": {
  "kernelspec": {
   "display_name": "Python 3 (ipykernel)",
   "language": "python",
   "name": "python3"
  },
  "language_info": {
   "codemirror_mode": {
    "name": "ipython",
    "version": 3
   },
   "file_extension": ".py",
   "mimetype": "text/x-python",
   "name": "python",
   "nbconvert_exporter": "python",
   "pygments_lexer": "ipython3",
   "version": "3.10.11"
  }
 },
 "nbformat": 4,
 "nbformat_minor": 5
}
